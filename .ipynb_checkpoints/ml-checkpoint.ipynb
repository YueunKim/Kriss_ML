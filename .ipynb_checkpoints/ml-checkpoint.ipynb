{
 "cells": [
  {
   "cell_type": "markdown",
   "metadata": {},
   "source": [
    "#### 01 비지도 학습 - K means  알고리즘"
   ]
  },
  {
   "cell_type": "code",
   "execution_count": 1,
   "metadata": {},
   "outputs": [],
   "source": [
    "from sklearn.cluster import KMeans\n",
    "from sklearn.datasets import load_iris"
   ]
  },
  {
   "cell_type": "code",
   "execution_count": 2,
   "metadata": {},
   "outputs": [
    {
     "name": "stdout",
     "output_type": "stream",
     "text": [
      "[0 0 0 0 0 0 0 0 0 0 0 0 0 0 0 0 0 0 0 0 0 0 0 0 0 0 0 0 0 0 0 0 0 0 0 0 0\n",
      " 0 0 0 0 0 0 0 0 0 0 0 0 0 1 1 2 1 1 1 1 1 1 1 1 1 1 1 1 1 1 1 1 1 1 1 1 1\n",
      " 1 1 1 2 1 1 1 1 1 1 1 1 1 1 1 1 1 1 1 1 1 1 1 1 1 1 2 1 2 2 2 2 1 2 2 2 2\n",
      " 2 2 1 1 2 2 2 2 1 2 1 2 1 2 2 1 1 2 2 2 2 2 1 2 2 2 2 1 2 2 2 1 2 2 2 1 2\n",
      " 2 1]\n"
     ]
    }
   ],
   "source": [
    "data = load_iris()\n",
    "n_cluster = 3\n",
    "model = KMeans(n_clusters=n_cluster)\n",
    "model.fit(data.data)\n",
    "print(model.labels_)"
   ]
  },
  {
   "cell_type": "code",
   "execution_count": 3,
   "metadata": {},
   "outputs": [],
   "source": [
    "from sklearn.datasets import load_wine\n",
    "\n",
    "data = load_wine()"
   ]
  },
  {
   "cell_type": "code",
   "execution_count": null,
   "metadata": {},
   "outputs": [],
   "source": []
  },
  {
   "cell_type": "code",
   "execution_count": 4,
   "metadata": {},
   "outputs": [],
   "source": [
    "X = data.data[:, [0, 9]]"
   ]
  },
  {
   "cell_type": "code",
   "execution_count": 5,
   "metadata": {},
   "outputs": [
    {
     "data": {
      "text/plain": [
       "array([[14.23    ,  5.64    ],\n",
       "       [13.2     ,  4.38    ],\n",
       "       [13.16    ,  5.68    ],\n",
       "       [14.37    ,  7.8     ],\n",
       "       [13.24    ,  4.32    ],\n",
       "       [14.2     ,  6.75    ],\n",
       "       [14.39    ,  5.25    ],\n",
       "       [14.06    ,  5.05    ],\n",
       "       [14.83    ,  5.2     ],\n",
       "       [13.86    ,  7.22    ],\n",
       "       [14.1     ,  5.75    ],\n",
       "       [14.12    ,  5.      ],\n",
       "       [13.75    ,  5.6     ],\n",
       "       [14.75    ,  5.4     ],\n",
       "       [14.38    ,  7.5     ],\n",
       "       [13.63    ,  7.3     ],\n",
       "       [14.3     ,  6.2     ],\n",
       "       [13.83    ,  6.6     ],\n",
       "       [14.19    ,  8.7     ],\n",
       "       [13.64    ,  5.1     ],\n",
       "       [14.06    ,  5.65    ],\n",
       "       [12.93    ,  4.5     ],\n",
       "       [13.71    ,  3.8     ],\n",
       "       [12.85    ,  3.93    ],\n",
       "       [13.5     ,  3.52    ],\n",
       "       [13.05    ,  3.58    ],\n",
       "       [13.39    ,  4.8     ],\n",
       "       [13.3     ,  3.95    ],\n",
       "       [13.87    ,  4.5     ],\n",
       "       [14.02    ,  4.7     ],\n",
       "       [13.73    ,  5.7     ],\n",
       "       [13.58    ,  6.9     ],\n",
       "       [13.68    ,  3.84    ],\n",
       "       [13.76    ,  5.4     ],\n",
       "       [13.51    ,  4.2     ],\n",
       "       [13.48    ,  5.1     ],\n",
       "       [13.28    ,  4.6     ],\n",
       "       [13.05    ,  4.25    ],\n",
       "       [13.07    ,  3.7     ],\n",
       "       [14.22    ,  5.1     ],\n",
       "       [13.56    ,  6.13    ],\n",
       "       [13.41    ,  4.28    ],\n",
       "       [13.88    ,  5.43    ],\n",
       "       [13.24    ,  4.36    ],\n",
       "       [13.05    ,  5.04    ],\n",
       "       [14.21    ,  5.24    ],\n",
       "       [14.38    ,  4.9     ],\n",
       "       [13.9     ,  6.1     ],\n",
       "       [14.1     ,  6.2     ],\n",
       "       [13.94    ,  8.9     ],\n",
       "       [13.05    ,  7.2     ],\n",
       "       [13.83    ,  5.6     ],\n",
       "       [13.82    ,  7.05    ],\n",
       "       [13.77    ,  6.3     ],\n",
       "       [13.74    ,  5.85    ],\n",
       "       [13.56    ,  6.25    ],\n",
       "       [14.22    ,  6.38    ],\n",
       "       [13.29    ,  6.      ],\n",
       "       [13.72    ,  6.8     ],\n",
       "       [12.37    ,  1.95    ],\n",
       "       [12.33    ,  3.27    ],\n",
       "       [12.64    ,  5.75    ],\n",
       "       [13.67    ,  3.8     ],\n",
       "       [12.37    ,  4.45    ],\n",
       "       [12.17    ,  2.95    ],\n",
       "       [12.37    ,  4.6     ],\n",
       "       [13.11    ,  5.3     ],\n",
       "       [12.37    ,  4.68    ],\n",
       "       [13.34    ,  3.17    ],\n",
       "       [12.21    ,  2.85    ],\n",
       "       [12.29    ,  3.05    ],\n",
       "       [13.86    ,  3.38    ],\n",
       "       [13.49    ,  3.74    ],\n",
       "       [12.99    ,  3.35    ],\n",
       "       [11.96    ,  3.21    ],\n",
       "       [11.66    ,  3.8     ],\n",
       "       [13.03    ,  4.6     ],\n",
       "       [11.84    ,  2.65    ],\n",
       "       [12.33    ,  3.4     ],\n",
       "       [12.7     ,  2.57    ],\n",
       "       [12.      ,  2.5     ],\n",
       "       [12.72    ,  3.9     ],\n",
       "       [12.08    ,  2.2     ],\n",
       "       [13.05    ,  4.8     ],\n",
       "       [11.84    ,  3.05    ],\n",
       "       [12.67    ,  2.62    ],\n",
       "       [12.16    ,  2.45    ],\n",
       "       [11.65    ,  2.6     ],\n",
       "       [11.64    ,  2.8     ],\n",
       "       [12.08    ,  1.74    ],\n",
       "       [12.08    ,  2.4     ],\n",
       "       [12.      ,  3.6     ],\n",
       "       [12.69    ,  3.05    ],\n",
       "       [12.29    ,  2.15    ],\n",
       "       [11.62    ,  3.25    ],\n",
       "       [12.47    ,  2.6     ],\n",
       "       [11.81    ,  2.5     ],\n",
       "       [12.29    ,  2.9     ],\n",
       "       [12.37    ,  4.5     ],\n",
       "       [12.29    ,  2.3     ],\n",
       "       [12.08    ,  3.3     ],\n",
       "       [12.6     ,  2.45    ],\n",
       "       [12.34    ,  2.8     ],\n",
       "       [11.82    ,  2.06    ],\n",
       "       [12.51    ,  2.94    ],\n",
       "       [12.42    ,  2.7     ],\n",
       "       [12.25    ,  3.4     ],\n",
       "       [12.72    ,  3.3     ],\n",
       "       [12.22    ,  2.7     ],\n",
       "       [11.61    ,  2.65    ],\n",
       "       [11.46    ,  2.9     ],\n",
       "       [12.52    ,  2.      ],\n",
       "       [11.76    ,  3.8     ],\n",
       "       [11.41    ,  3.08    ],\n",
       "       [12.08    ,  2.9     ],\n",
       "       [11.03    ,  1.9     ],\n",
       "       [11.82    ,  1.95    ],\n",
       "       [12.42    ,  2.06    ],\n",
       "       [12.77    ,  3.4     ],\n",
       "       [12.      ,  1.28    ],\n",
       "       [11.45    ,  3.25    ],\n",
       "       [11.56    ,  6.      ],\n",
       "       [12.42    ,  2.08    ],\n",
       "       [13.05    ,  2.6     ],\n",
       "       [11.87    ,  2.8     ],\n",
       "       [12.07    ,  2.76    ],\n",
       "       [12.43    ,  3.94    ],\n",
       "       [11.79    ,  3.      ],\n",
       "       [12.37    ,  2.12    ],\n",
       "       [12.04    ,  2.6     ],\n",
       "       [12.86    ,  4.1     ],\n",
       "       [12.88    ,  5.4     ],\n",
       "       [12.81    ,  5.7     ],\n",
       "       [12.7     ,  5.      ],\n",
       "       [12.51    ,  5.45    ],\n",
       "       [12.6     ,  7.1     ],\n",
       "       [12.25    ,  3.85    ],\n",
       "       [12.53    ,  5.      ],\n",
       "       [13.49    ,  5.7     ],\n",
       "       [12.84    ,  4.92    ],\n",
       "       [12.93    ,  4.6     ],\n",
       "       [13.36    ,  5.6     ],\n",
       "       [13.52    ,  4.35    ],\n",
       "       [13.62    ,  4.4     ],\n",
       "       [12.25    ,  8.21    ],\n",
       "       [13.16    ,  4.      ],\n",
       "       [13.88    ,  4.9     ],\n",
       "       [12.87    ,  7.65    ],\n",
       "       [13.32    ,  8.42    ],\n",
       "       [13.08    ,  9.4     ],\n",
       "       [13.5     ,  8.6     ],\n",
       "       [12.79    , 10.8     ],\n",
       "       [13.11    ,  7.1     ],\n",
       "       [13.23    , 10.52    ],\n",
       "       [12.58    ,  7.6     ],\n",
       "       [13.17    ,  7.9     ],\n",
       "       [13.84    ,  9.01    ],\n",
       "       [12.45    ,  7.5     ],\n",
       "       [14.34    , 13.      ],\n",
       "       [13.48    , 11.75    ],\n",
       "       [12.36    ,  7.65    ],\n",
       "       [13.69    ,  5.88    ],\n",
       "       [12.85    ,  5.58    ],\n",
       "       [12.96    ,  5.28    ],\n",
       "       [13.78    ,  9.58    ],\n",
       "       [13.73    ,  6.62    ],\n",
       "       [13.45    , 10.68    ],\n",
       "       [12.82    , 10.26    ],\n",
       "       [13.58    ,  8.66    ],\n",
       "       [13.4     ,  8.5     ],\n",
       "       [12.2     ,  5.5     ],\n",
       "       [12.77    ,  9.899999],\n",
       "       [14.16    ,  9.7     ],\n",
       "       [13.71    ,  7.7     ],\n",
       "       [13.4     ,  7.3     ],\n",
       "       [13.27    , 10.2     ],\n",
       "       [13.17    ,  9.3     ],\n",
       "       [14.13    ,  9.2     ]])"
      ]
     },
     "execution_count": 5,
     "metadata": {},
     "output_type": "execute_result"
    }
   ],
   "source": [
    "X"
   ]
  },
  {
   "cell_type": "code",
   "execution_count": 6,
   "metadata": {},
   "outputs": [],
   "source": [
    "from sklearn.cluster import KMeans\n",
    "\n",
    "n_cluster = 3\n",
    "model = KMeans(n_clusters=n_cluster)"
   ]
  },
  {
   "cell_type": "code",
   "execution_count": 7,
   "metadata": {},
   "outputs": [],
   "source": [
    "pred = model.fit_predict(X)"
   ]
  },
  {
   "cell_type": "code",
   "execution_count": 8,
   "metadata": {},
   "outputs": [
    {
     "data": {
      "text/plain": [
       "array([[14.23    ,  5.64    ],\n",
       "       [13.2     ,  4.38    ],\n",
       "       [13.16    ,  5.68    ],\n",
       "       [14.37    ,  7.8     ],\n",
       "       [13.24    ,  4.32    ],\n",
       "       [14.2     ,  6.75    ],\n",
       "       [14.39    ,  5.25    ],\n",
       "       [14.06    ,  5.05    ],\n",
       "       [14.83    ,  5.2     ],\n",
       "       [13.86    ,  7.22    ],\n",
       "       [14.1     ,  5.75    ],\n",
       "       [14.12    ,  5.      ],\n",
       "       [13.75    ,  5.6     ],\n",
       "       [14.75    ,  5.4     ],\n",
       "       [14.38    ,  7.5     ],\n",
       "       [13.63    ,  7.3     ],\n",
       "       [14.3     ,  6.2     ],\n",
       "       [13.83    ,  6.6     ],\n",
       "       [14.19    ,  8.7     ],\n",
       "       [13.64    ,  5.1     ],\n",
       "       [14.06    ,  5.65    ],\n",
       "       [12.93    ,  4.5     ],\n",
       "       [13.71    ,  3.8     ],\n",
       "       [12.85    ,  3.93    ],\n",
       "       [13.5     ,  3.52    ],\n",
       "       [13.05    ,  3.58    ],\n",
       "       [13.39    ,  4.8     ],\n",
       "       [13.3     ,  3.95    ],\n",
       "       [13.87    ,  4.5     ],\n",
       "       [14.02    ,  4.7     ],\n",
       "       [13.73    ,  5.7     ],\n",
       "       [13.58    ,  6.9     ],\n",
       "       [13.68    ,  3.84    ],\n",
       "       [13.76    ,  5.4     ],\n",
       "       [13.51    ,  4.2     ],\n",
       "       [13.48    ,  5.1     ],\n",
       "       [13.28    ,  4.6     ],\n",
       "       [13.05    ,  4.25    ],\n",
       "       [13.07    ,  3.7     ],\n",
       "       [14.22    ,  5.1     ],\n",
       "       [13.56    ,  6.13    ],\n",
       "       [13.41    ,  4.28    ],\n",
       "       [13.88    ,  5.43    ],\n",
       "       [13.24    ,  4.36    ],\n",
       "       [13.05    ,  5.04    ],\n",
       "       [14.21    ,  5.24    ],\n",
       "       [14.38    ,  4.9     ],\n",
       "       [13.9     ,  6.1     ],\n",
       "       [14.1     ,  6.2     ],\n",
       "       [13.94    ,  8.9     ],\n",
       "       [13.05    ,  7.2     ],\n",
       "       [13.83    ,  5.6     ],\n",
       "       [13.82    ,  7.05    ],\n",
       "       [13.77    ,  6.3     ],\n",
       "       [13.74    ,  5.85    ],\n",
       "       [13.56    ,  6.25    ],\n",
       "       [14.22    ,  6.38    ],\n",
       "       [13.29    ,  6.      ],\n",
       "       [13.72    ,  6.8     ],\n",
       "       [12.37    ,  1.95    ],\n",
       "       [12.33    ,  3.27    ],\n",
       "       [12.64    ,  5.75    ],\n",
       "       [13.67    ,  3.8     ],\n",
       "       [12.37    ,  4.45    ],\n",
       "       [12.17    ,  2.95    ],\n",
       "       [12.37    ,  4.6     ],\n",
       "       [13.11    ,  5.3     ],\n",
       "       [12.37    ,  4.68    ],\n",
       "       [13.34    ,  3.17    ],\n",
       "       [12.21    ,  2.85    ],\n",
       "       [12.29    ,  3.05    ],\n",
       "       [13.86    ,  3.38    ],\n",
       "       [13.49    ,  3.74    ],\n",
       "       [12.99    ,  3.35    ],\n",
       "       [11.96    ,  3.21    ],\n",
       "       [11.66    ,  3.8     ],\n",
       "       [13.03    ,  4.6     ],\n",
       "       [11.84    ,  2.65    ],\n",
       "       [12.33    ,  3.4     ],\n",
       "       [12.7     ,  2.57    ],\n",
       "       [12.      ,  2.5     ],\n",
       "       [12.72    ,  3.9     ],\n",
       "       [12.08    ,  2.2     ],\n",
       "       [13.05    ,  4.8     ],\n",
       "       [11.84    ,  3.05    ],\n",
       "       [12.67    ,  2.62    ],\n",
       "       [12.16    ,  2.45    ],\n",
       "       [11.65    ,  2.6     ],\n",
       "       [11.64    ,  2.8     ],\n",
       "       [12.08    ,  1.74    ],\n",
       "       [12.08    ,  2.4     ],\n",
       "       [12.      ,  3.6     ],\n",
       "       [12.69    ,  3.05    ],\n",
       "       [12.29    ,  2.15    ],\n",
       "       [11.62    ,  3.25    ],\n",
       "       [12.47    ,  2.6     ],\n",
       "       [11.81    ,  2.5     ],\n",
       "       [12.29    ,  2.9     ],\n",
       "       [12.37    ,  4.5     ],\n",
       "       [12.29    ,  2.3     ],\n",
       "       [12.08    ,  3.3     ],\n",
       "       [12.6     ,  2.45    ],\n",
       "       [12.34    ,  2.8     ],\n",
       "       [11.82    ,  2.06    ],\n",
       "       [12.51    ,  2.94    ],\n",
       "       [12.42    ,  2.7     ],\n",
       "       [12.25    ,  3.4     ],\n",
       "       [12.72    ,  3.3     ],\n",
       "       [12.22    ,  2.7     ],\n",
       "       [11.61    ,  2.65    ],\n",
       "       [11.46    ,  2.9     ],\n",
       "       [12.52    ,  2.      ],\n",
       "       [11.76    ,  3.8     ],\n",
       "       [11.41    ,  3.08    ],\n",
       "       [12.08    ,  2.9     ],\n",
       "       [11.03    ,  1.9     ],\n",
       "       [11.82    ,  1.95    ],\n",
       "       [12.42    ,  2.06    ],\n",
       "       [12.77    ,  3.4     ],\n",
       "       [12.      ,  1.28    ],\n",
       "       [11.45    ,  3.25    ],\n",
       "       [11.56    ,  6.      ],\n",
       "       [12.42    ,  2.08    ],\n",
       "       [13.05    ,  2.6     ],\n",
       "       [11.87    ,  2.8     ],\n",
       "       [12.07    ,  2.76    ],\n",
       "       [12.43    ,  3.94    ],\n",
       "       [11.79    ,  3.      ],\n",
       "       [12.37    ,  2.12    ],\n",
       "       [12.04    ,  2.6     ],\n",
       "       [12.86    ,  4.1     ],\n",
       "       [12.88    ,  5.4     ],\n",
       "       [12.81    ,  5.7     ],\n",
       "       [12.7     ,  5.      ],\n",
       "       [12.51    ,  5.45    ],\n",
       "       [12.6     ,  7.1     ],\n",
       "       [12.25    ,  3.85    ],\n",
       "       [12.53    ,  5.      ],\n",
       "       [13.49    ,  5.7     ],\n",
       "       [12.84    ,  4.92    ],\n",
       "       [12.93    ,  4.6     ],\n",
       "       [13.36    ,  5.6     ],\n",
       "       [13.52    ,  4.35    ],\n",
       "       [13.62    ,  4.4     ],\n",
       "       [12.25    ,  8.21    ],\n",
       "       [13.16    ,  4.      ],\n",
       "       [13.88    ,  4.9     ],\n",
       "       [12.87    ,  7.65    ],\n",
       "       [13.32    ,  8.42    ],\n",
       "       [13.08    ,  9.4     ],\n",
       "       [13.5     ,  8.6     ],\n",
       "       [12.79    , 10.8     ],\n",
       "       [13.11    ,  7.1     ],\n",
       "       [13.23    , 10.52    ],\n",
       "       [12.58    ,  7.6     ],\n",
       "       [13.17    ,  7.9     ],\n",
       "       [13.84    ,  9.01    ],\n",
       "       [12.45    ,  7.5     ],\n",
       "       [14.34    , 13.      ],\n",
       "       [13.48    , 11.75    ],\n",
       "       [12.36    ,  7.65    ],\n",
       "       [13.69    ,  5.88    ],\n",
       "       [12.85    ,  5.58    ],\n",
       "       [12.96    ,  5.28    ],\n",
       "       [13.78    ,  9.58    ],\n",
       "       [13.73    ,  6.62    ],\n",
       "       [13.45    , 10.68    ],\n",
       "       [12.82    , 10.26    ],\n",
       "       [13.58    ,  8.66    ],\n",
       "       [13.4     ,  8.5     ],\n",
       "       [12.2     ,  5.5     ],\n",
       "       [12.77    ,  9.899999],\n",
       "       [14.16    ,  9.7     ],\n",
       "       [13.71    ,  7.7     ],\n",
       "       [13.4     ,  7.3     ],\n",
       "       [13.27    , 10.2     ],\n",
       "       [13.17    ,  9.3     ],\n",
       "       [14.13    ,  9.2     ]])"
      ]
     },
     "execution_count": 8,
     "metadata": {},
     "output_type": "execute_result"
    }
   ],
   "source": [
    "X"
   ]
  },
  {
   "cell_type": "code",
   "execution_count": 9,
   "metadata": {},
   "outputs": [
    {
     "data": {
      "text/plain": [
       "array([0, 0, 0, 2, 0, 0, 0, 0, 0, 2, 0, 0, 0, 0, 2, 2, 0, 0, 2, 0, 0, 0,\n",
       "       0, 1, 1, 1, 0, 0, 0, 0, 0, 0, 0, 0, 0, 0, 0, 0, 1, 0, 0, 0, 0, 0,\n",
       "       0, 0, 0, 0, 0, 2, 2, 0, 2, 0, 0, 0, 0, 0, 0, 1, 1, 0, 0, 0, 1, 0,\n",
       "       0, 0, 1, 1, 1, 1, 0, 1, 1, 1, 0, 1, 1, 1, 1, 1, 1, 0, 1, 1, 1, 1,\n",
       "       1, 1, 1, 1, 1, 1, 1, 1, 1, 1, 0, 1, 1, 1, 1, 1, 1, 1, 1, 1, 1, 1,\n",
       "       1, 1, 1, 1, 1, 1, 1, 1, 1, 1, 1, 0, 1, 1, 1, 1, 1, 1, 1, 1, 0, 0,\n",
       "       0, 0, 0, 2, 1, 0, 0, 0, 0, 0, 0, 0, 2, 0, 0, 2, 2, 2, 2, 2, 2, 2,\n",
       "       2, 2, 2, 2, 2, 2, 2, 0, 0, 0, 2, 0, 2, 2, 2, 2, 0, 2, 2, 2, 2, 2,\n",
       "       2, 2])"
      ]
     },
     "execution_count": 9,
     "metadata": {},
     "output_type": "execute_result"
    }
   ],
   "source": [
    "pred"
   ]
  },
  {
   "cell_type": "code",
   "execution_count": 10,
   "metadata": {},
   "outputs": [
    {
     "data": {
      "text/plain": [
       "<matplotlib.collections.PathCollection at 0x12ccfad3a90>"
      ]
     },
     "execution_count": 10,
     "metadata": {},
     "output_type": "execute_result"
    },
    {
     "data": {
      "image/png": "[encoded data removed]",
      "text/plain": [
       "<Figure size 432x288 with 1 Axes>"
      ]
     },
     "metadata": {
      "needs_background": "light"
     },
     "output_type": "display_data"
    }
   ],
   "source": [
    "%matplotlib inline\n",
    "import matplotlib.pyplot as plt\n",
    "x1 = data.data[:, [0]]\n",
    "y1 = data.data[:, [9]]\n",
    "\n",
    "plt.scatter(x1, y1)"
   ]
  },
  {
   "cell_type": "code",
   "execution_count": 11,
   "metadata": {},
   "outputs": [
    {
     "data": {
      "text/plain": [
       "array([14.23, 13.2 , 13.16, 13.24, 14.2 , 14.39, 14.06, 14.83, 14.1 ,\n",
       "       14.12, 13.75, 14.75, 14.3 , 13.83, 13.64, 14.06, 12.93, 13.71,\n",
       "       13.39, 13.3 , 13.87, 14.02, 13.73, 13.58, 13.68, 13.76, 13.51,\n",
       "       13.48, 13.28, 13.05, 14.22, 13.56, 13.41, 13.88, 13.24, 13.05,\n",
       "       14.21, 14.38, 13.9 , 14.1 , 13.83, 13.77, 13.74, 13.56, 14.22,\n",
       "       13.29, 13.72, 12.64, 13.67, 12.37, 12.37, 13.11, 12.37, 13.49,\n",
       "       13.03, 13.05, 12.37, 11.56, 12.86, 12.88, 12.81, 12.7 , 12.51,\n",
       "       12.53, 13.49, 12.84, 12.93, 13.36, 13.52, 13.62, 13.16, 13.88,\n",
       "       13.69, 12.85, 12.96, 13.73, 12.2 ])"
      ]
     },
     "execution_count": 11,
     "metadata": {},
     "output_type": "execute_result"
    }
   ],
   "source": [
    "X[pred==0, 0]"
   ]
  },
  {
   "cell_type": "code",
   "execution_count": 12,
   "metadata": {},
   "outputs": [
    {
     "data": {
      "image/png": "[encoded data removed]",
      "text/plain": [
       "<Figure size 432x288 with 1 Axes>"
      ]
     },
     "metadata": {
      "needs_background": "light"
     },
     "output_type": "display_data"
    }
   ],
   "source": [
    "%matplotlib inline\n",
    "import matplotlib.pyplot as plt\n",
    "\n",
    "fig, ax = plt.subplots()\n",
    "\n",
    "ax.scatter(X[pred==0, 0], X[pred==0, 1], color='red', marker='s', label='Label1')\n",
    "ax.scatter(X[pred==1, 0], X[pred==1, 1], color='blue', marker='s', label='Label2')\n",
    "ax.scatter(X[pred==2, 0], X[pred==2, 1], color='green', marker='s', label='Label3')\n",
    "ax.scatter(model.cluster_centers_[:, 0], model.cluster_centers_[:, 1], s=200, color='yellow', marker=\"*\", label=\"center\")\n",
    "\n",
    "ax.legend()\n",
    "plt.show()"
   ]
  },
  {
   "cell_type": "markdown",
   "metadata": {},
   "source": [
    "#### 02 로지스틱 회귀 - 샘플 코드"
   ]
  },
  {
   "cell_type": "code",
   "execution_count": 13,
   "metadata": {},
   "outputs": [
    {
     "data": {
      "text/plain": [
       "array([0.06113346, 0.45121948, 0.91214607])"
      ]
     },
     "execution_count": 13,
     "metadata": {},
     "output_type": "execute_result"
    }
   ],
   "source": [
    "import numpy as np\n",
    "from sklearn.linear_model import LogisticRegression\n",
    "\n",
    "# 특징 데이터 생성\n",
    "X_train = np.r_[np.random.normal(3, 1, size=50),\n",
    "          np.random.normal(-1, 1, size=50)].reshape((100, -1))\n",
    "\n",
    "# 종속 변수 데이터 생성\n",
    "y_train = np.r_[np.ones(50), np.zeros(50)]\n",
    "\n",
    "# 로지스틱 회귀 모델 생성 및 학습과 예측\n",
    "model = LogisticRegression(solver='lbfgs')\n",
    "model.fit(X_train, y_train)\n",
    "model.predict_proba([[0], [1], [2]])[:, 1]"
   ]
  },
  {
   "cell_type": "markdown",
   "metadata": {},
   "source": [
    "#### 03 서포트 백터 머신 - 샘플 코드"
   ]
  },
  {
   "cell_type": "code",
   "execution_count": 14,
   "metadata": {},
   "outputs": [
    {
     "data": {
      "text/plain": [
       "1.0"
      ]
     },
     "execution_count": 14,
     "metadata": {},
     "output_type": "execute_result"
    }
   ],
   "source": [
    "from sklearn.svm import LinearSVC\n",
    "from sklearn.datasets import make_blobs\n",
    "from sklearn.model_selection import train_test_split\n",
    "from sklearn.metrics import accuracy_score\n",
    "\n",
    "# 데이터 분류의 중심 위치 정의\n",
    "centers = [(-1, -0.125), (0.5, 0.5)]\n",
    "\n",
    "# 특징과 종속 변수 생성\n",
    "X, y = make_blobs(n_samples=50, n_features=2, centers=centers, cluster_std=0.3)\n",
    "\n",
    "# 특징과 종속 변수 각각을 학습 데이터와 검증 데이터로 나누기\n",
    "X_train, X_test, y_train, y_test = train_test_split(X, y, test_size=0.3)\n",
    "\n",
    "# 선형 서포트 벡터 머신 모델 생성\n",
    "model = LinearSVC()\n",
    "\n",
    "model.fit(X_train, y_train)    # 학습\n",
    "y_pred = model.predict(X_test) # 예측\n",
    "accuracy_score(y_pred, y_test) # 평가"
   ]
  },
  {
   "cell_type": "markdown",
   "metadata": {},
   "source": [
    "#### 05 커널 기법을 적용한 서포트 벡터 머신 - 샘플 코드"
   ]
  },
  {
   "cell_type": "code",
   "execution_count": 15,
   "metadata": {},
   "outputs": [
    {
     "data": {
      "text/plain": [
       "0.9666666666666667"
      ]
     },
     "execution_count": 15,
     "metadata": {},
     "output_type": "execute_result"
    }
   ],
   "source": [
    "from sklearn.svm import SVC\n",
    "from sklearn.datasets import make_gaussian_quantiles\n",
    "from sklearn.model_selection import train_test_split\n",
    "from sklearn.metrics import accuracy_score\n",
    "\n",
    "# 특징과 종속 변수 생성\n",
    "X, y = make_gaussian_quantiles(n_features=2, n_classes=2, n_samples=300)\n",
    "\n",
    "# 특징과 종속 변수 각각을 학습 데이터와 검증 데이터로 나누기\n",
    "X_train, X_test, y_train, y_test = train_test_split(X, y, test_size=0.3)\n",
    "\n",
    "# 서포트 벡터 머신 모델 생성\n",
    "model = SVC(gamma='auto')\n",
    "\n",
    "model.fit(X_train, y_train)    # 학습\n",
    "y_pred = model.predict(X_test) # 예측\n",
    "accuracy_score(y_pred, y_test) # 평가"
   ]
  },
  {
   "cell_type": "markdown",
   "metadata": {},
   "source": [
    "#### 06 나이브 베이즈 분류 - 샘플 코드"
   ]
  },
  {
   "cell_type": "code",
   "execution_count": 16,
   "metadata": {},
   "outputs": [
    {
     "data": {
      "text/plain": [
       "array([1])"
      ]
     },
     "execution_count": 16,
     "metadata": {},
     "output_type": "execute_result"
    }
   ],
   "source": [
    "from sklearn.naive_bayes import MultinomialNB\n",
    "\n",
    "# 특징의 학습 데이터 생성\n",
    "X_train = [[1, 1, 0, 0, 0, 1, 0, 0, 0, 0, 0],\n",
    "           [0, 1, 1, 1, 0, 0, 0, 0, 0, 0, 0],\n",
    "           [1, 0, 0, 0, 1, 1, 0, 0, 0, 0, 0],\n",
    "           [0, 0, 0, 0, 0, 0, 1, 1, 0, 0, 0],\n",
    "           [0, 0, 0, 0, 0, 0, 0, 1, 1, 1, 0],\n",
    "           [0, 0, 0, 0, 0, 1, 0, 1, 1, 0, 1]]\n",
    "\n",
    "# 종속 변수의 학습 데이터 생성\n",
    "y_train = [1, 1, 1, 0, 0, 0]\n",
    "\n",
    "# 나이브 베이즈 분류 모델 생성\n",
    "model = MultinomialNB()\n",
    "\n",
    "model.fit(X_train, y_train) # 학습\n",
    "model.predict([[1, 0, 0, 1, 0, 1, 0, 0, 0, 0, 0]]) # 평가"
   ]
  },
  {
   "cell_type": "markdown",
   "metadata": {},
   "source": [
    "#### 07 랜덤 포레스트 - 샘플 코드"
   ]
  },
  {
   "cell_type": "code",
   "execution_count": 17,
   "metadata": {},
   "outputs": [
    {
     "data": {
      "text/plain": [
       "0.9444444444444444"
      ]
     },
     "execution_count": 17,
     "metadata": {},
     "output_type": "execute_result"
    }
   ],
   "source": [
    "from sklearn.datasets import load_wine\n",
    "from sklearn.ensemble import RandomForestClassifier\n",
    "from sklearn.model_selection import train_test_split\n",
    "from sklearn.metrics import accuracy_score\n",
    "\n",
    "# 와인 데이터세트 불러오기\n",
    "data = load_wine()\n",
    "\n",
    "# 특징과 종속 변수 각각을 학습 데이터와 검정 데이터로 나누기\n",
    "X_train, X_test, y_train, y_test = train_test_split(data.data, data.target, test_size=0.3)\n",
    "\n",
    "# 랜덤 포레스트 모델 생성\n",
    "model = RandomForestClassifier(n_estimators=10)\n",
    "\n",
    "model.fit(X_train, y_train)    # 학습\n",
    "y_pred = model.predict(X_test) # 예측\n",
    "accuracy_score(y_pred, y_test) # 평가"
   ]
  },
  {
   "cell_type": "markdown",
   "metadata": {},
   "source": [
    "#### 08 신경망 - 샘플 코드"
   ]
  },
  {
   "cell_type": "code",
   "execution_count": 18,
   "metadata": {},
   "outputs": [
    {
     "data": {
      "text/plain": [
       "0.9481481481481482"
      ]
     },
     "execution_count": 18,
     "metadata": {},
     "output_type": "execute_result"
    }
   ],
   "source": [
    "from sklearn.datasets import load_digits\n",
    "from sklearn.neural_network import MLPClassifier\n",
    "from sklearn.model_selection import train_test_split\n",
    "from sklearn.metrics import accuracy_score\n",
    "\n",
    "# NIST 데이터세트 불러오기\n",
    "data = load_digits()\n",
    "\n",
    "# 특징 설정\n",
    "X = data.images.reshape(len(data.images), -1)\n",
    "\n",
    "# 종속 변수 설정\n",
    "y = data.target\n",
    "\n",
    "# 특징과 종속 변수 각각을 학습 데이터와 검정 데이터로 나누기\n",
    "X_train, X_test, y_train, y_test = train_test_split(X, y, test_size=0.3)\n",
    "\n",
    "# 다층 퍼셉트론 분류 모델 생성\n",
    "model = MLPClassifier(hidden_layer_sizes=(16, ), max_iter=1000)\n",
    "\n",
    "model.fit(X_train, y_train)    # 학습\n",
    "y_pred = model.predict(X_test) # 예측\n",
    "accuracy_score(y_pred, y_test) # 평가"
   ]
  },
  {
   "cell_type": "markdown",
   "metadata": {},
   "source": [
    "#### 09 k 최근접 이웃 알고리즘 - 샘플 코드"
   ]
  },
  {
   "cell_type": "code",
   "execution_count": 19,
   "metadata": {},
   "outputs": [
    {
     "data": {
      "text/plain": [
       "0.9666666666666667"
      ]
     },
     "execution_count": 19,
     "metadata": {},
     "output_type": "execute_result"
    }
   ],
   "source": [
    "from sklearn.neighbors import KNeighborsClassifier\n",
    "from sklearn.datasets import make_moons\n",
    "from sklearn.model_selection import train_test_split\n",
    "from sklearn.metrics import accuracy_score\n",
    "\n",
    "# 특징 및 종속 변수 데이터 생성\n",
    "X, y = make_moons(noise=0.3)\n",
    "\n",
    "# 특징과 종속 변수 각각을 학습 데이터와 검정 데이터로 나누기\n",
    "X_train, X_test, y_train, y_test = train_test_split(X, y, test_size=0.3)\n",
    "\n",
    "# kNN 모델 생성\n",
    "model = KNeighborsClassifier(n_neighbors=5)\n",
    "\n",
    "model.fit(X_train, y_train)    # 학습\n",
    "y_pred = model.predict(X_test) # 예측\n",
    "accuracy_score(y_pred, y_test) # 평가"
   ]
  }
 ],
 "metadata": {
  "kernelspec": {
   "display_name": "Python 3",
   "language": "python",
   "name": "python3"
  },
  "language_info": {
   "codemirror_mode": {
    "name": "ipython",
    "version": 3
   },
   "file_extension": ".py",
   "mimetype": "text/x-python",
   "name": "python",
   "nbconvert_exporter": "python",
   "pygments_lexer": "ipython3",
   "version": "3.6.12"
  }
 },
 "nbformat": 4,
 "nbformat_minor": 2
}
