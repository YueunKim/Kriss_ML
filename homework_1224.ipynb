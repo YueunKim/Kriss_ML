{
 "cells": [
  {
   "cell_type": "code",
   "execution_count": 1,
   "metadata": {},
   "outputs": [],
   "source": [
    "import json\n",
    "from glob import glob\n",
    "import pandas as pd"
   ]
  },
  {
   "cell_type": "code",
   "execution_count": 2,
   "metadata": {},
   "outputs": [
    {
     "name": "stdout",
     "output_type": "stream",
     "text": [
      "Index(['Band_gap_HSE', 'Band_gap_GGA', 'Band_gap_GGA_optical',\n",
      "       'Direct_or_indirect', 'SOC', 'Space_group_rlx', 'Magnetic_ordering',\n",
      "       'Direct_or_indirect_HSE', 'Band_gap_HSE_optical'],\n",
      "      dtype='object')\n",
      "   Band_gap_HSE  Band_gap_GGA  Band_gap_GGA_optical Direct_or_indirect    SOC  \\\n",
      "0      3.294992      2.037844              2.059911           Indirect  False   \n",
      "1      2.143879      0.000000              0.000000               Null  False   \n",
      "2      2.884742      1.539445              3.887950           Indirect  False   \n",
      "3      2.390096      0.845940              3.807256           Indirect  False   \n",
      "4      2.835937      1.743398              2.676931           Indirect  False   \n",
      "5      3.055806      1.891728              1.891728             Direct  False   \n",
      "6      2.166236      1.137147              1.137147             Direct  False   \n",
      "7      1.838293      1.076390              1.076390             Direct  False   \n",
      "8      0.520156      0.000000              0.000000               Null  False   \n",
      "9      0.161867      0.000000              0.000000               Null  False   \n",
      "\n",
      "   Space_group_rlx Magnetic_ordering Direct_or_indirect_HSE  \\\n",
      "0               81                NM                 Direct   \n",
      "1               62                FM                 Direct   \n",
      "2                1                NM               Indirect   \n",
      "3               33                NM               Indirect   \n",
      "4              156                NM               Indirect   \n",
      "5              122                NM                 Direct   \n",
      "6              122                NM                 Direct   \n",
      "7              122                NM                 Direct   \n",
      "8              194                NM                 Direct   \n",
      "9              189                NM               Indirect   \n",
      "\n",
      "   Band_gap_HSE_optical  \n",
      "0              3.294992  \n",
      "1              2.143879  \n",
      "2              5.131385  \n",
      "3              5.558663  \n",
      "4              3.759027  \n",
      "5              3.055806  \n",
      "6              2.166236  \n",
      "7              1.838293  \n",
      "8              0.520156  \n",
      "9              0.436166  \n",
      "    Band_gap_HSE  Band_gap_GGA  Band_gap_GGA_optical Direct_or_indirect  \\\n",
      "89      0.367644      0.000000              0.000000               Null   \n",
      "90      3.433337      1.852829              2.430745           Indirect   \n",
      "91      2.092385      1.015877              1.015877             Direct   \n",
      "92      2.202747      0.522174              0.522174             Direct   \n",
      "93      2.182708      0.616087              1.567956           Indirect   \n",
      "94      4.209930      2.325548              3.208639           Indirect   \n",
      "95      3.194673      2.330909              2.438532           Indirect   \n",
      "96      4.604647      2.631969              5.000198           Indirect   \n",
      "97      4.923812      2.882815              2.882815             Direct   \n",
      "98      4.446148      2.526893              3.938989           Indirect   \n",
      "\n",
      "      SOC  Space_group_rlx Magnetic_ordering Direct_or_indirect_HSE  \\\n",
      "89  False               62                NM               Indirect   \n",
      "90  False               62                NM               Indirect   \n",
      "91  False               31                NM                 Direct   \n",
      "92  False               67                NM                 Direct   \n",
      "93  False               54                NM               Indirect   \n",
      "94  False               87                NM               Indirect   \n",
      "95  False               85                NM               Indirect   \n",
      "96  False              121                NM               Indirect   \n",
      "97  False               62                NM                 Direct   \n",
      "98  False              216                NM               Indirect   \n",
      "\n",
      "    Band_gap_HSE_optical  \n",
      "89              0.812767  \n",
      "90              3.639489  \n",
      "91              2.092385  \n",
      "92              2.202747  \n",
      "93              3.313349  \n",
      "94              5.080770  \n",
      "95              3.336075  \n",
      "96              7.120010  \n",
      "97              4.923812  \n",
      "98              6.020050  \n"
     ]
    }
   ],
   "source": [
    "# read filenames\n",
    "fs = glob('C:/Workspace/Kriss_ML/data_practice/*.json'); fs.sort()\n",
    "\n",
    "# read json files\n",
    "data = []\n",
    "for f in fs:\n",
    "    with open(f) as json_file:\n",
    "        json_data = json.load(json_file)\n",
    "    data.append(json_data)\n",
    "\n",
    "# as DataFrame\n",
    "df = pd.DataFrame(data)\n",
    "print (df.columns)\n",
    "print (df.head(10))\n",
    "print (df.tail(10))"
   ]
  },
  {
   "cell_type": "code",
   "execution_count": 3,
   "metadata": {},
   "outputs": [],
   "source": [
    "df.to_csv(\"ks0016_data_csv\")"
   ]
  },
  {
   "cell_type": "code",
   "execution_count": 4,
   "metadata": {},
   "outputs": [
    {
     "data": {
      "image/png": "[encoded data removed]",
      "text/plain": [
       "<Figure size 432x288 with 1 Axes>"
      ]
     },
     "metadata": {
      "needs_background": "light"
     },
     "output_type": "display_data"
    },
    {
     "data": {
      "image/png": "[encoded data removed]",
      "text/plain": [
       "<Figure size 432x288 with 1 Axes>"
      ]
     },
     "metadata": {
      "needs_background": "light"
     },
     "output_type": "display_data"
    }
   ],
   "source": [
    "import matplotlib.pyplot as plt\n",
    "plt.scatter(df['Band_gap_HSE'], df['Band_gap_GGA'])\n",
    "plt.show()\n",
    "plt.scatter(df['Band_gap_HSE_optical'], df['Band_gap_GGA_optical'])\n",
    "plt.show()"
   ]
  },
  {
   "cell_type": "code",
   "execution_count": null,
   "metadata": {},
   "outputs": [],
   "source": []
  }
 ],
 "metadata": {
  "kernelspec": {
   "display_name": "Python 3",
   "language": "python",
   "name": "python3"
  },
  "language_info": {
   "codemirror_mode": {
    "name": "ipython",
    "version": 3
   },
   "file_extension": ".py",
   "mimetype": "text/x-python",
   "name": "python",
   "nbconvert_exporter": "python",
   "pygments_lexer": "ipython3",
   "version": "3.6.12"
  }
 },
 "nbformat": 4,
 "nbformat_minor": 4
}
