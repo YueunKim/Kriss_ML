{
 "cells": [
  {
   "cell_type": "code",
   "execution_count": 1,
   "metadata": {},
   "outputs": [
    {
     "name": "stderr",
     "output_type": "stream",
     "text": [
      "Using TensorFlow backend.\n",
      "C:\\Users\\MSI\\anaconda3\\envs\\py36_tf114\\lib\\site-packages\\tensorflow\\python\\framework\\dtypes.py:516: FutureWarning: Passing (type, 1) or '1type' as a synonym of type is deprecated; in a future version of numpy, it will be understood as (type, (1,)) / '(1,)type'.\n",
      "  _np_qint8 = np.dtype([(\"qint8\", np.int8, 1)])\n",
      "C:\\Users\\MSI\\anaconda3\\envs\\py36_tf114\\lib\\site-packages\\tensorflow\\python\\framework\\dtypes.py:517: FutureWarning: Passing (type, 1) or '1type' as a synonym of type is deprecated; in a future version of numpy, it will be understood as (type, (1,)) / '(1,)type'.\n",
      "  _np_quint8 = np.dtype([(\"quint8\", np.uint8, 1)])\n",
      "C:\\Users\\MSI\\anaconda3\\envs\\py36_tf114\\lib\\site-packages\\tensorflow\\python\\framework\\dtypes.py:518: FutureWarning: Passing (type, 1) or '1type' as a synonym of type is deprecated; in a future version of numpy, it will be understood as (type, (1,)) / '(1,)type'.\n",
      "  _np_qint16 = np.dtype([(\"qint16\", np.int16, 1)])\n",
      "C:\\Users\\MSI\\anaconda3\\envs\\py36_tf114\\lib\\site-packages\\tensorflow\\python\\framework\\dtypes.py:519: FutureWarning: Passing (type, 1) or '1type' as a synonym of type is deprecated; in a future version of numpy, it will be understood as (type, (1,)) / '(1,)type'.\n",
      "  _np_quint16 = np.dtype([(\"quint16\", np.uint16, 1)])\n",
      "C:\\Users\\MSI\\anaconda3\\envs\\py36_tf114\\lib\\site-packages\\tensorflow\\python\\framework\\dtypes.py:520: FutureWarning: Passing (type, 1) or '1type' as a synonym of type is deprecated; in a future version of numpy, it will be understood as (type, (1,)) / '(1,)type'.\n",
      "  _np_qint32 = np.dtype([(\"qint32\", np.int32, 1)])\n",
      "C:\\Users\\MSI\\anaconda3\\envs\\py36_tf114\\lib\\site-packages\\tensorflow\\python\\framework\\dtypes.py:525: FutureWarning: Passing (type, 1) or '1type' as a synonym of type is deprecated; in a future version of numpy, it will be understood as (type, (1,)) / '(1,)type'.\n",
      "  np_resource = np.dtype([(\"resource\", np.ubyte, 1)])\n",
      "C:\\Users\\MSI\\anaconda3\\envs\\py36_tf114\\lib\\site-packages\\tensorboard\\compat\\tensorflow_stub\\dtypes.py:541: FutureWarning: Passing (type, 1) or '1type' as a synonym of type is deprecated; in a future version of numpy, it will be understood as (type, (1,)) / '(1,)type'.\n",
      "  _np_qint8 = np.dtype([(\"qint8\", np.int8, 1)])\n",
      "C:\\Users\\MSI\\anaconda3\\envs\\py36_tf114\\lib\\site-packages\\tensorboard\\compat\\tensorflow_stub\\dtypes.py:542: FutureWarning: Passing (type, 1) or '1type' as a synonym of type is deprecated; in a future version of numpy, it will be understood as (type, (1,)) / '(1,)type'.\n",
      "  _np_quint8 = np.dtype([(\"quint8\", np.uint8, 1)])\n",
      "C:\\Users\\MSI\\anaconda3\\envs\\py36_tf114\\lib\\site-packages\\tensorboard\\compat\\tensorflow_stub\\dtypes.py:543: FutureWarning: Passing (type, 1) or '1type' as a synonym of type is deprecated; in a future version of numpy, it will be understood as (type, (1,)) / '(1,)type'.\n",
      "  _np_qint16 = np.dtype([(\"qint16\", np.int16, 1)])\n",
      "C:\\Users\\MSI\\anaconda3\\envs\\py36_tf114\\lib\\site-packages\\tensorboard\\compat\\tensorflow_stub\\dtypes.py:544: FutureWarning: Passing (type, 1) or '1type' as a synonym of type is deprecated; in a future version of numpy, it will be understood as (type, (1,)) / '(1,)type'.\n",
      "  _np_quint16 = np.dtype([(\"quint16\", np.uint16, 1)])\n",
      "C:\\Users\\MSI\\anaconda3\\envs\\py36_tf114\\lib\\site-packages\\tensorboard\\compat\\tensorflow_stub\\dtypes.py:545: FutureWarning: Passing (type, 1) or '1type' as a synonym of type is deprecated; in a future version of numpy, it will be understood as (type, (1,)) / '(1,)type'.\n",
      "  _np_qint32 = np.dtype([(\"qint32\", np.int32, 1)])\n",
      "C:\\Users\\MSI\\anaconda3\\envs\\py36_tf114\\lib\\site-packages\\tensorboard\\compat\\tensorflow_stub\\dtypes.py:550: FutureWarning: Passing (type, 1) or '1type' as a synonym of type is deprecated; in a future version of numpy, it will be understood as (type, (1,)) / '(1,)type'.\n",
      "  np_resource = np.dtype([(\"resource\", np.ubyte, 1)])\n"
     ]
    },
    {
     "data": {
      "text/plain": [
       "'2.3.1'"
      ]
     },
     "execution_count": 1,
     "metadata": {},
     "output_type": "execute_result"
    }
   ],
   "source": [
    "import keras\n",
    "keras.__version__"
   ]
  },
  {
   "cell_type": "code",
   "execution_count": 2,
   "metadata": {},
   "outputs": [
    {
     "name": "stdout",
     "output_type": "stream",
     "text": [
      "Variable   Type      Data/Info\n",
      "------------------------------\n",
      "keras      module    <module 'keras' from 'C:\\<...>ges\\\\keras\\\\__init__.py'>\n"
     ]
    }
   ],
   "source": [
    "%whos"
   ]
  },
  {
   "cell_type": "code",
   "execution_count": 3,
   "metadata": {},
   "outputs": [
    {
     "data": {
      "text/plain": [
       "'2.3.1'"
      ]
     },
     "execution_count": 3,
     "metadata": {},
     "output_type": "execute_result"
    }
   ],
   "source": [
    "keras.__version__"
   ]
  },
  {
   "cell_type": "code",
   "execution_count": 4,
   "metadata": {},
   "outputs": [],
   "source": [
    "import numpy"
   ]
  },
  {
   "cell_type": "code",
   "execution_count": 5,
   "metadata": {},
   "outputs": [
    {
     "name": "stdout",
     "output_type": "stream",
     "text": [
      "Model: \"sequential_1\"\n",
      "_________________________________________________________________\n",
      "Layer (type)                 Output Shape              Param #   \n",
      "=================================================================\n",
      "dense_1 (Dense)              (None, 1)                 2         \n",
      "=================================================================\n",
      "Total params: 2\n",
      "Trainable params: 2\n",
      "Non-trainable params: 0\n",
      "_________________________________________________________________\n"
     ]
    }
   ],
   "source": [
    "x = numpy.array([0, 1, 2, 3, 4, 5, 6, 7, 8, 9])\n",
    "# y = x * 2 + 1\n",
    "y = numpy.array([1, 3, 5, 7, 9, 11, 13, 15, 17, 19])\n",
    "model = keras.models.Sequential()\n",
    "model.add(keras.layers.Dense(1, input_shape=(1,)))\n",
    "model.compile('SGD', 'mse')\n",
    "model.summary()"
   ]
  },
  {
   "cell_type": "code",
   "execution_count": 6,
   "metadata": {},
   "outputs": [
    {
     "name": "stdout",
     "output_type": "stream",
     "text": [
      "WARNING:tensorflow:From C:\\Users\\MSI\\anaconda3\\envs\\py36_tf114\\lib\\site-packages\\keras\\backend\\tensorflow_backend.py:422: The name tf.global_variables is deprecated. Please use tf.compat.v1.global_variables instead.\n",
      "\n",
      "Epoch 1/50\n",
      "9/9 [==============================] - 0s 6ms/step - loss: 138.1803\n",
      "Epoch 2/50\n",
      "9/9 [==============================] - 0s 112us/step - loss: 39.2306\n",
      "Epoch 3/50\n",
      "9/9 [==============================] - 0s 110us/step - loss: 11.1859\n",
      "Epoch 4/50\n",
      "9/9 [==============================] - 0s 112us/step - loss: 3.2367\n",
      "Epoch 5/50\n",
      "9/9 [==============================] - 0s 111us/step - loss: 0.9830\n",
      "Epoch 6/50\n",
      "9/9 [==============================] - 0s 222us/step - loss: 0.3436\n",
      "Epoch 7/50\n",
      "9/9 [==============================] - 0s 111us/step - loss: 0.1616\n",
      "Epoch 8/50\n",
      "9/9 [==============================] - 0s 0us/step - loss: 0.1093\n",
      "Epoch 9/50\n",
      "9/9 [==============================] - 0s 111us/step - loss: 0.0937\n",
      "Epoch 10/50\n",
      "9/9 [==============================] - 0s 111us/step - loss: 0.0886\n",
      "Epoch 11/50\n",
      "9/9 [==============================] - 0s 111us/step - loss: 0.0865\n",
      "Epoch 12/50\n",
      "9/9 [==============================] - 0s 111us/step - loss: 0.0852\n",
      "Epoch 13/50\n",
      "9/9 [==============================] - 0s 111us/step - loss: 0.0841\n",
      "Epoch 14/50\n",
      "9/9 [==============================] - 0s 111us/step - loss: 0.0831\n",
      "Epoch 15/50\n",
      "9/9 [==============================] - 0s 222us/step - loss: 0.0822\n",
      "Epoch 16/50\n",
      "9/9 [==============================] - 0s 111us/step - loss: 0.0812\n",
      "Epoch 17/50\n",
      "9/9 [==============================] - 0s 111us/step - loss: 0.0803\n",
      "Epoch 18/50\n",
      "9/9 [==============================] - 0s 111us/step - loss: 0.0794\n",
      "Epoch 19/50\n",
      "9/9 [==============================] - 0s 111us/step - loss: 0.0785\n",
      "Epoch 20/50\n",
      "9/9 [==============================] - 0s 111us/step - loss: 0.0776\n",
      "Epoch 21/50\n",
      "9/9 [==============================] - 0s 0us/step - loss: 0.0767\n",
      "Epoch 22/50\n",
      "9/9 [==============================] - 0s 111us/step - loss: 0.0758\n",
      "Epoch 23/50\n",
      "9/9 [==============================] - 0s 111us/step - loss: 0.0750\n",
      "Epoch 24/50\n",
      "9/9 [==============================] - 0s 111us/step - loss: 0.0741\n",
      "Epoch 25/50\n",
      "9/9 [==============================] - 0s 111us/step - loss: 0.0733\n",
      "Epoch 26/50\n",
      "9/9 [==============================] - 0s 222us/step - loss: 0.0724\n",
      "Epoch 27/50\n",
      "9/9 [==============================] - 0s 222us/step - loss: 0.0716\n",
      "Epoch 28/50\n",
      "9/9 [==============================] - 0s 222us/step - loss: 0.0708\n",
      "Epoch 29/50\n",
      "9/9 [==============================] - 0s 222us/step - loss: 0.0700\n",
      "Epoch 30/50\n",
      "9/9 [==============================] - 0s 112us/step - loss: 0.0692\n",
      "Epoch 31/50\n",
      "9/9 [==============================] - 0s 111us/step - loss: 0.0684\n",
      "Epoch 32/50\n",
      "9/9 [==============================] - 0s 111us/step - loss: 0.0676\n",
      "Epoch 33/50\n",
      "9/9 [==============================] - 0s 111us/step - loss: 0.0669\n",
      "Epoch 34/50\n",
      "9/9 [==============================] - 0s 222us/step - loss: 0.0661\n",
      "Epoch 35/50\n",
      "9/9 [==============================] - 0s 111us/step - loss: 0.0654\n",
      "Epoch 36/50\n",
      "9/9 [==============================] - 0s 111us/step - loss: 0.0646\n",
      "Epoch 37/50\n",
      "9/9 [==============================] - 0s 111us/step - loss: 0.0639\n",
      "Epoch 38/50\n",
      "9/9 [==============================] - 0s 111us/step - loss: 0.0632\n",
      "Epoch 39/50\n",
      "9/9 [==============================] - 0s 111us/step - loss: 0.0624\n",
      "Epoch 40/50\n",
      "9/9 [==============================] - 0s 111us/step - loss: 0.0617\n",
      "Epoch 41/50\n",
      "9/9 [==============================] - 0s 111us/step - loss: 0.0610\n",
      "Epoch 42/50\n",
      "9/9 [==============================] - 0s 111us/step - loss: 0.0603\n",
      "Epoch 43/50\n",
      "9/9 [==============================] - 0s 111us/step - loss: 0.0596\n",
      "Epoch 44/50\n",
      "9/9 [==============================] - 0s 111us/step - loss: 0.0590\n",
      "Epoch 45/50\n",
      "9/9 [==============================] - 0s 222us/step - loss: 0.0583\n",
      "Epoch 46/50\n",
      "9/9 [==============================] - 0s 107us/step - loss: 0.0576\n",
      "Epoch 47/50\n",
      "9/9 [==============================] - 0s 222us/step - loss: 0.0570\n",
      "Epoch 48/50\n",
      "9/9 [==============================] - 0s 111us/step - loss: 0.0563\n",
      "Epoch 49/50\n",
      "9/9 [==============================] - 0s 111us/step - loss: 0.0557\n",
      "Epoch 50/50\n",
      "9/9 [==============================] - 0s 111us/step - loss: 0.0551\n"
     ]
    },
    {
     "data": {
      "text/plain": [
       "<keras.callbacks.callbacks.History at 0x1b006c6bac8>"
      ]
     },
     "execution_count": 6,
     "metadata": {},
     "output_type": "execute_result"
    }
   ],
   "source": [
    "model.fit(x[:9], y[:9], epochs=50, verbose=1)"
   ]
  },
  {
   "cell_type": "code",
   "execution_count": 7,
   "metadata": {},
   "outputs": [
    {
     "name": "stdout",
     "output_type": "stream",
     "text": [
      "Targets: [19]\n",
      "Predictions: [19.261698]\n"
     ]
    }
   ],
   "source": [
    "print('Targets:', y[9:])\n",
    "print('Predictions:', model.predict(x[9:]).flatten())"
   ]
  },
  {
   "cell_type": "code",
   "execution_count": null,
   "metadata": {},
   "outputs": [],
   "source": []
  }
 ],
 "metadata": {
  "kernelspec": {
   "display_name": "Python 3",
   "language": "python",
   "name": "python3"
  },
  "language_info": {
   "codemirror_mode": {
    "name": "ipython",
    "version": 3
   },
   "file_extension": ".py",
   "mimetype": "text/x-python",
   "name": "python",
   "nbconvert_exporter": "python",
   "pygments_lexer": "ipython3",
   "version": "3.6.12"
  }
 },
 "nbformat": 4,
 "nbformat_minor": 4
}
